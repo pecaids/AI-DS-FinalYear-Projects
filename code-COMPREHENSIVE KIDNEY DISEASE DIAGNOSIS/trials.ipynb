{
 "cells": [
  {
   "cell_type": "code",
   "execution_count": 3,
   "metadata": {},
   "outputs": [],
   "source": [
    "from box import ConfigBox"
   ]
  },
  {
   "cell_type": "markdown",
   "metadata": {},
   "source": [
    "\n",
    "Donwload data from gdrive\n"
   ]
  },
  {
   "cell_type": "code",
   "execution_count": 5,
   "metadata": {},
   "outputs": [],
   "source": [
    "import gdown"
   ]
  },
  {
   "cell_type": "code",
   "execution_count": 11,
   "metadata": {},
   "outputs": [],
   "source": [
    "url=\"https://drive.google.com/file/d/1GMeSGY1s2pgFJOf6ZmVW1Zy5QjeIPcDg/view?usp=sharing\""
   ]
  },
  {
   "cell_type": "code",
   "execution_count": 12,
   "metadata": {},
   "outputs": [
    {
     "data": {
      "text/plain": [
       "'1GMeSGY1s2pgFJOf6ZmVW1Zy5QjeIPcDg'"
      ]
     },
     "execution_count": 12,
     "metadata": {},
     "output_type": "execute_result"
    }
   ],
   "source": [
    "file_id = url.split(\"/\")[-2]\n",
    "file_id"
   ]
  },
  {
   "cell_type": "code",
   "execution_count": 10,
   "metadata": {},
   "outputs": [
    {
     "name": "stderr",
     "output_type": "stream",
     "text": [
      "Downloading...\n",
      "From (original): https://drive.google.com/uc?/export=download&id=1MMG1K-o6v7CXXkmp99C1tkbFTM4SSsEX\n",
      "From (redirected): https://drive.google.com/uc?%2Fexport=download&id=1MMG1K-o6v7CXXkmp99C1tkbFTM4SSsEX&confirm=t&uuid=be91861c-c979-47bc-bd50-2bc6ab5f99d3\n",
      "To: c:\\final_project\\comprehensive_kidney_disease_classification\\research\\kidney_ct_scan_image.zip\n",
      "100%|██████████| 91.1M/91.1M [03:32<00:00, 428kB/s]\n"
     ]
    },
    {
     "data": {
      "text/plain": [
       "'kidney_ct_scan_image.zip'"
      ]
     },
     "execution_count": 10,
     "metadata": {},
     "output_type": "execute_result"
    }
   ],
   "source": [
    "prefix = 'https://drive.google.com/uc?/export=download&id='\n",
    "gdown.download(prefix+file_id, \"kidney-ct-scan-image.zip\")"
   ]
  },
  {
   "cell_type": "code",
   "execution_count": null,
   "metadata": {},
   "outputs": [],
   "source": []
  }
 ],
 "metadata": {
  "kernelspec": {
   "display_name": "kidney",
   "language": "python",
   "name": "python3"
  },
  "language_info": {
   "codemirror_mode": {
    "name": "ipython",
    "version": 3
   },
   "file_extension": ".py",
   "mimetype": "text/x-python",
   "name": "python",
   "nbconvert_exporter": "python",
   "pygments_lexer": "ipython3",
   "version": "3.8.18"
  }
 },
 "nbformat": 4,
 "nbformat_minor": 2
}
